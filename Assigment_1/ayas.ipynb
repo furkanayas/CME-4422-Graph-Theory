{
 "nbformat": 4,
 "nbformat_minor": 2,
 "metadata": {
  "language_info": {
   "name": "python",
   "codemirror_mode": {
    "name": "ipython",
    "version": 3
   },
   "version": "3.7.0-beta"
  },
  "orig_nbformat": 2,
  "file_extension": ".py",
  "mimetype": "text/x-python",
  "name": "python",
  "npconvert_exporter": "python",
  "pygments_lexer": "ipython3",
  "version": 3,
  "kernelspec": {
   "name": "python37064bit7c94f68aafd44e25875f38b4b6e012b9",
   "display_name": "Python 3.7.0 64-bit"
  }
 },
 "cells": [
  {
   "cell_type": "code",
   "execution_count": 6,
   "metadata": {},
   "outputs": [],
   "source": [
    "#!/usr/bin/env python\n",
    "# coding: utf-8\n",
    "\n",
    "\n",
    "import networkx as nx\n",
    "from networkx.drawing.nx_pydot import write_dot\n",
    "import graphviz as p\n",
    "\n",
    "#from katz_centrality\n",
    "\n",
    "import scipy as sp\n",
    "\n",
    "#import matplotlib\n",
    "#from networkx.classes.reportviews import NodeView\n",
    ""
   ]
  },
  {
   "cell_type": "code",
   "execution_count": 7,
   "metadata": {},
   "outputs": [],
   "source": [
    "G = nx.Graph()"
   ]
  },
  {
   "cell_type": "code",
   "execution_count": 8,
   "metadata": {},
   "outputs": [],
   "source": [
    "G.add_node('Mordecai')\n",
    "G.add_node('Rigby')\n",
    "G.add_node('Mitch')\n",
    "G.add_node('Skips')\n",
    "G.add_node('HFGhost')\n",
    "G.add_node('Benson')\n",
    "G.add_node('Pops')\n",
    "G.add_node('Margaret')\n",
    "G.add_node('CJ')\n",
    "G.add_node('Eileen')"
   ]
  },
  {
   "cell_type": "code",
   "execution_count": 9,
   "metadata": {},
   "outputs": [
    {
     "output_type": "execute_result",
     "data": {
      "text/plain": "NodeView(('Mordecai', 'Rigby', 'Mitch', 'Skips', 'HFGhost', 'Benson', 'Pops', 'Margaret', 'CJ', 'Eileen'))"
     },
     "metadata": {},
     "execution_count": 9
    }
   ],
   "source": [
    "G.nodes"
   ]
  },
  {
   "cell_type": "code",
   "execution_count": 10,
   "metadata": {},
   "outputs": [],
   "source": [
    "G.add_edge('Mordecai','Rigby')\n",
    "G.add_edge('Mordecai','Mitch')\n",
    "G.add_edge('Mordecai','Skips')\n",
    "G.add_edge('Mordecai','HFGhost')\n",
    "G.add_edge('Mordecai','Benson')\n",
    "G.add_edge('Mordecai','Pops')\n",
    "G.add_edge('Mordecai','Margaret')\n",
    "G.add_edge('Mordecai','CJ')\n",
    "\n",
    "G.add_edge('Rigby','Mitch')\n",
    "G.add_edge('Rigby','Skips')\n",
    "G.add_edge('Rigby','HFGhost')\n",
    "G.add_edge('Rigby','Benson')\n",
    "G.add_edge('Rigby','Pops')\n",
    "G.add_edge('Rigby','Eileen')\n",
    "\n",
    "G.add_edge('Pops','Mitch')\n",
    "G.add_edge('Pops','Skips')\n",
    "G.add_edge('Pops','HFGhost')\n",
    "G.add_edge('Pops','Benson')\n",
    "\n",
    "G.add_edge('Skips','Mitch')\n",
    "G.add_edge('Skips','HFGhost')\n",
    "G.add_edge('Skips','Benson')\n",
    "\n",
    "G.add_edge('Mitch','HFGhost')\n",
    "G.add_edge('Mitch','Benson')\n",
    ""
   ]
  },
  {
   "cell_type": "code",
   "execution_count": 11,
   "metadata": {},
   "outputs": [
    {
     "output_type": "execute_result",
     "data": {
      "text/plain": "EdgeView([('Mordecai', 'Rigby'), ('Mordecai', 'Mitch'), ('Mordecai', 'Skips'), ('Mordecai', 'HFGhost'), ('Mordecai', 'Benson'), ('Mordecai', 'Pops'), ('Mordecai', 'Margaret'), ('Mordecai', 'CJ'), ('Rigby', 'Mitch'), ('Rigby', 'Skips'), ('Rigby', 'HFGhost'), ('Rigby', 'Benson'), ('Rigby', 'Pops'), ('Rigby', 'Eileen'), ('Mitch', 'Pops'), ('Mitch', 'Skips'), ('Mitch', 'HFGhost'), ('Mitch', 'Benson'), ('Skips', 'Pops'), ('Skips', 'HFGhost'), ('Skips', 'Benson'), ('HFGhost', 'Pops'), ('Benson', 'Pops')])"
     },
     "metadata": {},
     "execution_count": 11
    }
   ],
   "source": [
    "G.edges"
   ]
  },
  {
   "cell_type": "code",
   "execution_count": 12,
   "metadata": {},
   "outputs": [
    {
     "output_type": "execute_result",
     "data": {
      "text/plain": "3"
     },
     "metadata": {},
     "execution_count": 12
    }
   ],
   "source": [
    "nx.diameter(G)"
   ]
  },
  {
   "cell_type": "code",
   "execution_count": 13,
   "metadata": {},
   "outputs": [
    {
     "output_type": "execute_result",
     "data": {
      "text/plain": "2"
     },
     "metadata": {},
     "execution_count": 13
    }
   ],
   "source": [
    "nx.radius(G)"
   ]
  },
  {
   "cell_type": "code",
   "execution_count": 14,
   "metadata": {},
   "outputs": [
    {
     "output_type": "execute_result",
     "data": {
      "text/plain": "['Mordecai', 'Rigby', 'Mitch', 'Skips', 'HFGhost', 'Benson', 'Pops']"
     },
     "metadata": {},
     "execution_count": 14
    }
   ],
   "source": [
    "nx.center(G)"
   ]
  },
  {
   "cell_type": "code",
   "execution_count": 15,
   "metadata": {},
   "outputs": [
    {
     "output_type": "execute_result",
     "data": {
      "text/plain": "['Margaret', 'CJ', 'Eileen']"
     },
     "metadata": {},
     "execution_count": 15
    }
   ],
   "source": [
    "nx.periphery(G)"
   ]
  },
  {
   "cell_type": "code",
   "execution_count": 16,
   "metadata": {},
   "outputs": [
    {
     "output_type": "execute_result",
     "data": {
      "text/plain": "{'Mordecai': 2,\n 'Rigby': 2,\n 'Mitch': 2,\n 'Skips': 2,\n 'HFGhost': 2,\n 'Benson': 2,\n 'Pops': 2,\n 'Margaret': 3,\n 'CJ': 3,\n 'Eileen': 3}"
     },
     "metadata": {},
     "execution_count": 16
    }
   ],
   "source": [
    "nx.eccentricity(G)"
   ]
  },
  {
   "cell_type": "code",
   "execution_count": 17,
   "metadata": {},
   "outputs": [
    {
     "output_type": "execute_result",
     "data": {
      "text/plain": "{'Mordecai': 0.8888888888888888,\n 'Rigby': 0.7777777777777777,\n 'Mitch': 0.6666666666666666,\n 'Skips': 0.6666666666666666,\n 'HFGhost': 0.5555555555555556,\n 'Benson': 0.5555555555555556,\n 'Pops': 0.6666666666666666,\n 'Margaret': 0.1111111111111111,\n 'CJ': 0.1111111111111111,\n 'Eileen': 0.1111111111111111}"
     },
     "metadata": {},
     "execution_count": 17
    }
   ],
   "source": [
    "nx.degree_centrality(G) "
   ]
  },
  {
   "cell_type": "code",
   "execution_count": 18,
   "metadata": {},
   "outputs": [
    {
     "output_type": "execute_result",
     "data": {
      "text/plain": "{'Mordecai': 0.9,\n 'Rigby': 0.8181818181818182,\n 'Mitch': 0.75,\n 'Skips': 0.75,\n 'HFGhost': 0.6923076923076923,\n 'Benson': 0.6923076923076923,\n 'Pops': 0.75,\n 'Margaret': 0.5,\n 'CJ': 0.5,\n 'Eileen': 0.47368421052631576}"
     },
     "metadata": {},
     "execution_count": 18
    }
   ],
   "source": [
    "nx.closeness_centrality(G)"
   ]
  },
  {
   "cell_type": "code",
   "execution_count": 19,
   "metadata": {},
   "outputs": [
    {
     "output_type": "execute_result",
     "data": {
      "text/plain": "<function networkx.algorithms.centrality.eigenvector.eigenvector_centrality(G, max_iter=100, tol=1e-06, nstart=None, weight=None)>"
     },
     "metadata": {},
     "execution_count": 19
    }
   ],
   "source": [
    "nx.eigenvector_centrality"
   ]
  },
  {
   "cell_type": "code",
   "execution_count": 20,
   "metadata": {},
   "outputs": [
    {
     "output_type": "execute_result",
     "data": {
      "text/plain": "{'Mordecai': 0.42222222222222217,\n 'Rigby': 0.22777777777777775,\n 'Mitch': 0.005555555555555556,\n 'Skips': 0.005555555555555556,\n 'HFGhost': 0.0,\n 'Benson': 0.0,\n 'Pops': 0.005555555555555556,\n 'Margaret': 0.0,\n 'CJ': 0.0,\n 'Eileen': 0.0}"
     },
     "metadata": {},
     "execution_count": 20
    }
   ],
   "source": [
    "nx.betweenness_centrality(G)"
   ]
  },
  {
   "cell_type": "code",
   "execution_count": 21,
   "metadata": {},
   "outputs": [
    {
     "output_type": "execute_result",
     "data": {
      "text/plain": "(array([ 5.82317203e+00+0.00000000e+00j,  8.83054495e-01+0.00000000e+00j,\n         4.68142587e-01+0.00000000e+00j, -2.00000000e+00+0.00000000e+00j,\n        -1.75060909e+00+0.00000000e+00j, -1.42376003e+00+0.00000000e+00j,\n        -1.00000000e+00+0.00000000e+00j, -1.00000000e+00+0.00000000e+00j,\n        -5.23008757e-18+3.14350517e-17j, -5.23008757e-18-3.14350517e-17j]),\n array([[-4.04435913e-01+0.00000000e+00j, -4.81473010e-01+0.00000000e+00j,\n         -9.06527143e-02+0.00000000e+00j,  7.07106781e-01+0.00000000e+00j,\n          2.69809745e-01+0.00000000e+00j, -1.53623307e-01+0.00000000e+00j,\n          1.59908520e-16+0.00000000e+00j,  1.16694197e-16+0.00000000e+00j,\n         -1.18798038e-18+9.50819000e-19j, -1.18798038e-18-9.50819000e-19j],\n        [-3.93994142e-01+0.00000000e+00j,  2.44906210e-01+0.00000000e+00j,\n         -3.80555926e-01+0.00000000e+00j,  3.85629852e-16+0.00000000e+00j,\n         -5.89393792e-01+0.00000000e+00j, -5.40908226e-01+0.00000000e+00j,\n         -3.30847053e-17+0.00000000e+00j, -1.96810188e-17+0.00000000e+00j,\n         -1.35946512e-16+4.11689999e-17j, -1.35946512e-16-4.11689999e-17j],\n        [-3.84077976e-01+0.00000000e+00j,  9.76243013e-02+0.00000000e+00j,\n          1.73140986e-01+0.00000000e+00j,  1.50060360e-16+0.00000000e+00j,\n         -1.40852363e-01+0.00000000e+00j,  3.55625855e-01+0.00000000e+00j,\n         -5.45152400e-01+0.00000000e+00j, -6.08997168e-01+0.00000000e+00j,\n          2.31106039e-17-2.36925810e-17j,  2.31106039e-17+2.36925810e-17j],\n        [-3.84077976e-01+0.00000000e+00j,  9.76243013e-02+0.00000000e+00j,\n          1.73140986e-01+0.00000000e+00j, -4.21965553e-16+0.00000000e+00j,\n         -1.40852363e-01+0.00000000e+00j,  3.55625855e-01+0.00000000e+00j,\n         -2.53833000e-01+0.00000000e+00j,  7.75499472e-01+0.00000000e+00j,\n          9.59770779e-18+3.51028200e-17j,  9.59770779e-18-3.51028200e-17j],\n        [-3.34983059e-01+0.00000000e+00j,  6.37628875e-02+0.00000000e+00j,\n          1.02990669e-01+0.00000000e+00j, -3.53553391e-01+0.00000000e+00j,\n          4.23933100e-01+0.00000000e+00j, -2.61523026e-01+0.00000000e+00j,\n         -2.67108570e-17+0.00000000e+00j, -2.87529921e-16+0.00000000e+00j,\n         -2.76367504e-01+2.70908546e-01j, -2.76367504e-01-2.70908546e-01j],\n        [-3.34983059e-01+0.00000000e+00j,  6.37628875e-02+0.00000000e+00j,\n          1.02990669e-01+0.00000000e+00j, -3.53553391e-01+0.00000000e+00j,\n          4.23933100e-01+0.00000000e+00j, -2.61523026e-01+0.00000000e+00j,\n         -2.67108570e-17+0.00000000e+00j, -3.34559892e-17+0.00000000e+00j,\n          2.76367504e-01-2.70908546e-01j,  2.76367504e-01+2.70908546e-01j],\n        [-3.84077976e-01+0.00000000e+00j,  9.76243013e-02+0.00000000e+00j,\n          1.73140986e-01+0.00000000e+00j, -2.48820161e-16+0.00000000e+00j,\n         -1.40852363e-01+0.00000000e+00j,  3.55625855e-01+0.00000000e+00j,\n          7.98985400e-01+0.00000000e+00j, -1.66502304e-01+0.00000000e+00j,\n          1.31863289e-17-2.61731643e-17j,  1.31863289e-17+2.61731643e-17j],\n        [-6.94528533e-02+0.00000000e+00j, -5.45235897e-01+0.00000000e+00j,\n         -1.93643383e-01+0.00000000e+00j, -3.53553391e-01+0.00000000e+00j,\n         -1.54123355e-01+0.00000000e+00j,  1.07899719e-01+0.00000000e+00j,\n         -1.64382625e-18+0.00000000e+00j,  1.08236942e-16+0.00000000e+00j,\n          5.91801962e-01+0.00000000e+00j,  5.91801962e-01-0.00000000e+00j],\n        [-6.94528533e-02+0.00000000e+00j, -5.45235897e-01+0.00000000e+00j,\n         -1.93643383e-01+0.00000000e+00j, -3.53553391e-01+0.00000000e+00j,\n         -1.54123355e-01+0.00000000e+00j,  1.07899719e-01+0.00000000e+00j,\n         -4.32771897e-17+0.00000000e+00j, -3.99875648e-17+0.00000000e+00j,\n         -5.91801962e-01-6.93889390e-17j, -5.91801962e-01+6.93889390e-17j],\n        [-6.76597120e-02+0.00000000e+00j,  2.77339860e-01+0.00000000e+00j,\n         -8.12906018e-01+0.00000000e+00j, -1.59451664e-16+0.00000000e+00j,\n          3.36679272e-01+0.00000000e+00j,  3.79915306e-01+0.00000000e+00j,\n         -2.44654764e-18+0.00000000e+00j,  1.03471463e-16+0.00000000e+00j,\n          1.05065536e-16-3.09600166e-17j,  1.05065536e-16+3.09600166e-17j]]))"
     },
     "metadata": {},
     "execution_count": 21
    }
   ],
   "source": [
    "A = nx.adjacency_matrix(G)\n",
    "sp.linalg.eig(A.todense())"
   ]
  },
  {
   "cell_type": "code",
   "execution_count": 22,
   "metadata": {},
   "outputs": [
    {
     "output_type": "execute_result",
     "data": {
      "text/plain": "{'Mordecai': 0.40443619294979816,\n 'Rigby': 0.3939940297436182,\n 'Mitch': 0.3840779075605735,\n 'Skips': 0.3840779075605735,\n 'HFGhost': 0.33498301604006786,\n 'Benson': 0.33498301604006786,\n 'Pops': 0.3840779075605735,\n 'Margaret': 0.06945317852699444,\n 'CJ': 0.06945317852699444,\n 'Eileen': 0.06765961162116857}"
     },
     "metadata": {},
     "execution_count": 22
    }
   ],
   "source": [
    "nx.eigenvector_centrality(G)"
   ]
  },
  {
   "cell_type": "code",
   "execution_count": 23,
   "metadata": {},
   "outputs": [
    {
     "output_type": "execute_result",
     "data": {
      "text/plain": "{'Mordecai': 0.3926126345553114,\n 'Rigby': 0.37573958071680413,\n 'Mitch': 0.3591733095253326,\n 'Skips': 0.3591733095253326,\n 'HFGhost': 0.32924220803402066,\n 'Benson': 0.32924220803402066,\n 'Pops': 0.35917330952533266,\n 'Margaret': 0.1839163066626689,\n 'CJ': 0.1839163066626689,\n 'Eileen': 0.18222900161348582}"
     },
     "metadata": {},
     "execution_count": 23
    }
   ],
   "source": [
    "nx.katz_centrality(G)"
   ]
  },
  {
   "cell_type": "code",
   "execution_count": 24,
   "metadata": {},
   "outputs": [
    {
     "output_type": "execute_result",
     "data": {
      "text/plain": "<function networkx.algorithms.link_analysis.pagerank_alg.pagerank(G, alpha=0.85, personalization=None, max_iter=100, tol=1e-06, nstart=None, weight='weight', dangling=None)>"
     },
     "metadata": {},
     "execution_count": 24
    }
   ],
   "source": [
    "nx.pagerank"
   ]
  },
  {
   "cell_type": "code",
   "execution_count": 25,
   "metadata": {},
   "outputs": [
    {
     "output_type": "execute_result",
     "data": {
      "text/plain": "{'Mordecai': 0.1776617211078479,\n 'Rigby': 0.14898537521073774,\n 'Mitch': 0.12170714626952389,\n 'Skips': 0.12170714626952389,\n 'HFGhost': 0.1036933628940764,\n 'Benson': 0.1036933628940764,\n 'Pops': 0.1217071462695239,\n 'Margaret': 0.03387684741816743,\n 'CJ': 0.03387684741816743,\n 'Eileen': 0.03309104424835486}"
     },
     "metadata": {},
     "execution_count": 25
    }
   ],
   "source": [
    "nx.pagerank(G)"
   ]
  },
  {
   "cell_type": "code",
   "execution_count": 12,
   "metadata": {},
   "outputs": [
    {
     "output_type": "display_data",
     "data": {
      "text/plain": "<Figure size 432x288 with 1 Axes>",
      "image/svg+xml": "<?xml version=\"1.0\" encoding=\"utf-8\" standalone=\"no\"?>\n<!DOCTYPE svg PUBLIC \"-//W3C//DTD SVG 1.1//EN\"\n  \"http://www.w3.org/Graphics/SVG/1.1/DTD/svg11.dtd\">\n<!-- Created with matplotlib (https://matplotlib.org/) -->\n<svg height=\"302.4pt\" version=\"1.1\" viewBox=\"0 0 446.4 302.4\" width=\"446.4pt\" xmlns=\"http://www.w3.org/2000/svg\" xmlns:xlink=\"http://www.w3.org/1999/xlink\">\n <defs>\n  <style type=\"text/css\">\n*{stroke-linecap:butt;stroke-linejoin:round;}\n  </style>\n </defs>\n <g id=\"figure_1\">\n  <g id=\"patch_1\">\n   <path d=\"M 0 302.4 \nL 446.4 302.4 \nL 446.4 0 \nL 0 0 \nz\n\" style=\"fill:#ffffff;\"/>\n  </g>\n  <g id=\"axes_1\">\n   <g id=\"LineCollection_1\">\n    <path clip-path=\"url(#pa3c4c5b61f)\" d=\"M 229.452798 198.293602 \nL 304.904329 106.670722 \n\" style=\"fill:none;stroke:#000000;\"/>\n    <path clip-path=\"url(#pa3c4c5b61f)\" d=\"M 229.452798 198.293602 \nL 309.897874 146.930805 \n\" style=\"fill:none;stroke:#000000;\"/>\n    <path clip-path=\"url(#pa3c4c5b61f)\" d=\"M 229.452798 198.293602 \nL 198.5644 127.65151 \n\" style=\"fill:none;stroke:#000000;\"/>\n    <path clip-path=\"url(#pa3c4c5b61f)\" d=\"M 229.452798 198.293602 \nL 419.563636 158.610454 \n\" style=\"fill:none;stroke:#000000;\"/>\n    <path clip-path=\"url(#pa3c4c5b61f)\" d=\"M 229.452798 198.293602 \nL 74.753068 140.003902 \n\" style=\"fill:none;stroke:#000000;\"/>\n    <path clip-path=\"url(#pa3c4c5b61f)\" d=\"M 229.452798 198.293602 \nL 200.947726 162.213607 \n\" style=\"fill:none;stroke:#000000;\"/>\n    <path clip-path=\"url(#pa3c4c5b61f)\" d=\"M 229.452798 198.293602 \nL 26.836364 270.906582 \n\" style=\"fill:none;stroke:#000000;\"/>\n    <path clip-path=\"url(#pa3c4c5b61f)\" d=\"M 229.452798 198.293602 \nL 354.674951 282.109091 \n\" style=\"fill:none;stroke:#000000;\"/>\n    <path clip-path=\"url(#pa3c4c5b61f)\" d=\"M 304.904329 106.670722 \nL 309.897874 146.930805 \n\" style=\"fill:none;stroke:#000000;\"/>\n    <path clip-path=\"url(#pa3c4c5b61f)\" d=\"M 304.904329 106.670722 \nL 198.5644 127.65151 \n\" style=\"fill:none;stroke:#000000;\"/>\n    <path clip-path=\"url(#pa3c4c5b61f)\" d=\"M 304.904329 106.670722 \nL 419.563636 158.610454 \n\" style=\"fill:none;stroke:#000000;\"/>\n    <path clip-path=\"url(#pa3c4c5b61f)\" d=\"M 304.904329 106.670722 \nL 74.753068 140.003902 \n\" style=\"fill:none;stroke:#000000;\"/>\n    <path clip-path=\"url(#pa3c4c5b61f)\" d=\"M 304.904329 106.670722 \nL 200.947726 162.213607 \n\" style=\"fill:none;stroke:#000000;\"/>\n    <path clip-path=\"url(#pa3c4c5b61f)\" d=\"M 304.904329 106.670722 \nL 406.664096 20.290909 \n\" style=\"fill:none;stroke:#000000;\"/>\n    <path clip-path=\"url(#pa3c4c5b61f)\" d=\"M 309.897874 146.930805 \nL 200.947726 162.213607 \n\" style=\"fill:none;stroke:#000000;\"/>\n    <path clip-path=\"url(#pa3c4c5b61f)\" d=\"M 309.897874 146.930805 \nL 198.5644 127.65151 \n\" style=\"fill:none;stroke:#000000;\"/>\n    <path clip-path=\"url(#pa3c4c5b61f)\" d=\"M 309.897874 146.930805 \nL 419.563636 158.610454 \n\" style=\"fill:none;stroke:#000000;\"/>\n    <path clip-path=\"url(#pa3c4c5b61f)\" d=\"M 309.897874 146.930805 \nL 74.753068 140.003902 \n\" style=\"fill:none;stroke:#000000;\"/>\n    <path clip-path=\"url(#pa3c4c5b61f)\" d=\"M 198.5644 127.65151 \nL 200.947726 162.213607 \n\" style=\"fill:none;stroke:#000000;\"/>\n    <path clip-path=\"url(#pa3c4c5b61f)\" d=\"M 198.5644 127.65151 \nL 419.563636 158.610454 \n\" style=\"fill:none;stroke:#000000;\"/>\n    <path clip-path=\"url(#pa3c4c5b61f)\" d=\"M 198.5644 127.65151 \nL 74.753068 140.003902 \n\" style=\"fill:none;stroke:#000000;\"/>\n    <path clip-path=\"url(#pa3c4c5b61f)\" d=\"M 419.563636 158.610454 \nL 200.947726 162.213607 \n\" style=\"fill:none;stroke:#000000;\"/>\n    <path clip-path=\"url(#pa3c4c5b61f)\" d=\"M 74.753068 140.003902 \nL 200.947726 162.213607 \n\" style=\"fill:none;stroke:#000000;\"/>\n   </g>\n   <g id=\"PathCollection_1\">\n    <defs>\n     <path d=\"M 0 8.660254 \nC 2.296726 8.660254 4.499694 7.747755 6.123724 6.123724 \nC 7.747755 4.499694 8.660254 2.296726 8.660254 0 \nC 8.660254 -2.296726 7.747755 -4.499694 6.123724 -6.123724 \nC 4.499694 -7.747755 2.296726 -8.660254 0 -8.660254 \nC -2.296726 -8.660254 -4.499694 -7.747755 -6.123724 -6.123724 \nC -7.747755 -4.499694 -8.660254 -2.296726 -8.660254 0 \nC -8.660254 2.296726 -7.747755 4.499694 -6.123724 6.123724 \nC -4.499694 7.747755 -2.296726 8.660254 0 8.660254 \nz\n\" id=\"m3df89af3ba\" style=\"stroke:#1f78b4;\"/>\n    </defs>\n    <g clip-path=\"url(#pa3c4c5b61f)\">\n     <use style=\"fill:#1f78b4;stroke:#1f78b4;\" x=\"229.452798\" xlink:href=\"#m3df89af3ba\" y=\"198.293602\"/>\n     <use style=\"fill:#1f78b4;stroke:#1f78b4;\" x=\"304.904329\" xlink:href=\"#m3df89af3ba\" y=\"106.670722\"/>\n     <use style=\"fill:#1f78b4;stroke:#1f78b4;\" x=\"309.897874\" xlink:href=\"#m3df89af3ba\" y=\"146.930805\"/>\n     <use style=\"fill:#1f78b4;stroke:#1f78b4;\" x=\"198.5644\" xlink:href=\"#m3df89af3ba\" y=\"127.65151\"/>\n     <use style=\"fill:#1f78b4;stroke:#1f78b4;\" x=\"419.563636\" xlink:href=\"#m3df89af3ba\" y=\"158.610454\"/>\n     <use style=\"fill:#1f78b4;stroke:#1f78b4;\" x=\"74.753068\" xlink:href=\"#m3df89af3ba\" y=\"140.003902\"/>\n     <use style=\"fill:#1f78b4;stroke:#1f78b4;\" x=\"200.947726\" xlink:href=\"#m3df89af3ba\" y=\"162.213607\"/>\n     <use style=\"fill:#1f78b4;stroke:#1f78b4;\" x=\"26.836364\" xlink:href=\"#m3df89af3ba\" y=\"270.906582\"/>\n     <use style=\"fill:#1f78b4;stroke:#1f78b4;\" x=\"354.674951\" xlink:href=\"#m3df89af3ba\" y=\"282.109091\"/>\n     <use style=\"fill:#1f78b4;stroke:#1f78b4;\" x=\"406.664096\" xlink:href=\"#m3df89af3ba\" y=\"20.290909\"/>\n    </g>\n   </g>\n  </g>\n </g>\n <defs>\n  <clipPath id=\"pa3c4c5b61f\">\n   <rect height=\"288\" width=\"432\" x=\"7.2\" y=\"7.2\"/>\n  </clipPath>\n </defs>\n</svg>\n",
      "image/png": "[encoded data removed]"
     },
     "metadata": {}
    }
   ],
   "source": [
    "nx.draw(G)"
   ]
  }
 ]
}